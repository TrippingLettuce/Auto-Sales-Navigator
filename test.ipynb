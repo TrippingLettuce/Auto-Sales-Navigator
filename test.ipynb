{
 "cells": [
  {
   "cell_type": "code",
   "execution_count": 1,
   "metadata": {},
   "outputs": [],
   "source": [
    "import pandas as pd\n",
    "import numpy as np"
   ]
  },
  {
   "cell_type": "code",
   "execution_count": 41,
   "metadata": {},
   "outputs": [],
   "source": [
    "def sep(og,rg):\n",
    "    suffixes = ['inc','co','company','llc','lc','corp','foundation','llc & partners','incorp','services']\n",
    "\n",
    "    for suffix in suffixes:\n",
    "        if og == rg or og + suffix == rg:\n",
    "            return True\n",
    "    return False"
   ]
  },
  {
   "cell_type": "code",
   "execution_count": 45,
   "metadata": {},
   "outputs": [
    {
     "data": {
      "text/plain": [
       "True"
      ]
     },
     "execution_count": 45,
     "metadata": {},
     "output_type": "execute_result"
    }
   ],
   "source": [
    "og = 'dy beer'\n",
    "rg = 'dy beer inc.'\n",
    "og = og.replace(' ','').lower()\n",
    "og = og.replace('.','').lower()\n",
    "rg = rg.replace(' ','').lower()\n",
    "rg = rg.replace('.','').lower()\n",
    "\n",
    "sep(og,rg)"
   ]
  }
 ],
 "metadata": {
  "kernelspec": {
   "display_name": "Python 3",
   "language": "python",
   "name": "python3"
  },
  "language_info": {
   "codemirror_mode": {
    "name": "ipython",
    "version": 3
   },
   "file_extension": ".py",
   "mimetype": "text/x-python",
   "name": "python",
   "nbconvert_exporter": "python",
   "pygments_lexer": "ipython3",
   "version": "3.10.6"
  },
  "orig_nbformat": 4
 },
 "nbformat": 4,
 "nbformat_minor": 2
}
