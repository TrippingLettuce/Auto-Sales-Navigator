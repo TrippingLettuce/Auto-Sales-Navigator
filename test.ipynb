{
 "cells": [
  {
   "cell_type": "code",
   "execution_count": 13,
   "metadata": {},
   "outputs": [],
   "source": [
    "import pandas as pd"
   ]
  },
  {
   "cell_type": "code",
   "execution_count": 3,
   "metadata": {},
   "outputs": [
    {
     "name": "stdout",
     "output_type": "stream",
     "text": [
      " Liquid Foundation\n",
      "operationmasks\n",
      "nassfitness\n",
      "combatdiver\n",
      "karposmultimedia\n",
      "dyckmanbeerco\n",
      "suaspontefoundation\n",
      "dawnbreakerfarms\n",
      "CrossFitNewEngland\n",
      "e2idesign\n",
      "aslansplace\n",
      "oasisspacville\n",
      "possi\n",
      "cobs\n",
      "abwilderness\n",
      "bhef\n",
      "blossombehavioral\n",
      "brownsvilleag\n",
      "cctustin\n",
      "geneseehillpta\n",
      "kindervelt\n",
      "pinecrestgardens\n",
      "rosehillchurch\n",
      "sbcoc\n",
      "thesheepfold\n",
      "maddragonmusic\n",
      "puccifoods\n",
      "mindandmom\n",
      "gwfins\n",
      "influencechurch\n",
      "silverstateesports\n",
      "simplifiedit\n",
      "TrailandUltraRunning\n",
      "gtcon\n",
      "kulturedcustoms\n",
      "csctalkradio\n",
      "sweatthestyle\n",
      "foxpak\n",
      "tech-sage\n",
      "wanderingisite\n",
      "churchhealth\n",
      "sakhiyaskinclinic\n",
      "petspamiami\n",
      "rootdownbrewing\n",
      "thefrenchartisan\n",
      "mothersdayclassic\n",
      "givebesa\n",
      "raphahouse\n",
      "tsm\n",
      "budgetroofingsupply\n",
      "ydlv\n",
      "journeycc\n",
      "miraclecitychurch\n",
      "breakfreebeunstoppable\n",
      "fear2peace\n",
      "accadis-isb\n",
      "airlockertraining\n",
      "binbathers\n",
      "blackglassgallery\n",
      "csgo2asia\n",
      "huntdrop\n",
      "imtgapp\n",
      "juniperboutique\n",
      "mrfarmersclass\n",
      "newestcomputers\n",
      "seventhrule\n",
      "upventur\n",
      "urbanismsummit\n",
      "cubecobra\n",
      "meinlusa\n",
      "tattoosonlamar\n",
      "carrielivingston\n",
      "lalaland-design\n",
      "umranaysan\n",
      "battcrew\n",
      "oldscoolbmx\n",
      "oregonseaweed\n",
      "renarddrinks\n",
      "eodwarriorfoundation\n",
      "thefarmershouse\n",
      "civicspirit\n",
      "jhlord\n",
      "usmmuseum\n",
      "gracefamilybaptist\n",
      "jrni\n",
      "carolclemans\n",
      "gracechurchmentor\n",
      "hospitalchurch\n",
      "iempowerment\n",
      "livingwatersri\n",
      "locfoundation\n",
      "mauliola\n",
      "ophrescue\n",
      "see3d\n",
      "urbansurf4kids\n",
      "wesleysinternational\n"
     ]
    }
   ],
   "source": [
    "dataframe = pd.read_csv('company_result/company_100_500.csv')\n",
    "\n",
    "df = dataframe[\"Company\"]\n",
    "\n",
    "for x in range(len(df)):\n",
    "    print(df[x])"
   ]
  },
  {
   "cell_type": "code",
   "execution_count": 17,
   "metadata": {},
   "outputs": [
    {
     "ename": "SyntaxError",
     "evalue": "unterminated string literal (detected at line 18) (4115153430.py, line 18)",
     "output_type": "error",
     "traceback": [
      "\u001b[0;36m  Cell \u001b[0;32mIn[17], line 18\u001b[0;36m\u001b[0m\n\u001b[0;31m    \"Fundraising - anything with this\u001b[0m\n\u001b[0m    ^\u001b[0m\n\u001b[0;31mSyntaxError\u001b[0m\u001b[0;31m:\u001b[0m unterminated string literal (detected at line 18)\n"
     ]
    }
   ],
   "source": [
    "[\"CEO\",\"Chief Executive Officer\",\"C.E.O.\",\"Founder\",\"Co-founder\",\"Cofounder\",\"Director of Development \",\"Business Development\",\"Retail - Literally anything with retail\",\"ecommerce\",\"Digital Marketing\",\"CMO\",\"Chief Marketing Officer\",\"CTO\",\"Chief Technology Officer\",\"Director of Marketing\",\"Software\",\"Fundraising\",\"Partner\",\"Donor\",\"President\",\"Owner\",\"Partnership\",\"Marketing manager\"]"
   ]
  },
  {
   "cell_type": "code",
   "execution_count": null,
   "metadata": {},
   "outputs": [],
   "source": []
  }
 ],
 "metadata": {
  "interpreter": {
   "hash": "aee8b7b246df8f9039afb4144a1f6fd8d2ca17a180786b69acc140d282b71a49"
  },
  "kernelspec": {
   "display_name": "Python 3.11.0 64-bit",
   "language": "python",
   "name": "python3"
  },
  "language_info": {
   "codemirror_mode": {
    "name": "ipython",
    "version": 3
   },
   "file_extension": ".py",
   "mimetype": "text/x-python",
   "name": "python",
   "nbconvert_exporter": "python",
   "pygments_lexer": "ipython3",
   "version": "3.10.6"
  },
  "orig_nbformat": 4
 },
 "nbformat": 4,
 "nbformat_minor": 2
}
