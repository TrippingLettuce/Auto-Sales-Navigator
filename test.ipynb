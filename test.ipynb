{
 "cells": [
  {
   "cell_type": "code",
   "execution_count": 2,
   "metadata": {},
   "outputs": [],
   "source": [
    "import pandas as pd\n",
    "import numpy as np"
   ]
  },
  {
   "cell_type": "code",
   "execution_count": 4,
   "metadata": {},
   "outputs": [
    {
     "name": "stdout",
     "output_type": "stream",
     "text": [
      "operation masks\n",
      "pinecrestgardens\n",
      "karposmultimedia\n",
      "dyckmanbeerco\n",
      "suaspontefoundation\n",
      "nassfitness\n",
      "combatdiver\n",
      "dawnbreakerfarms\n",
      "CrossFitNewEngland\n",
      "e2idesign\n",
      "aslansplace\n",
      "oasisspacville\n",
      "possi\n",
      "cobs\n",
      "abwilderness\n",
      "bhef\n",
      "blossombehavioral\n",
      "brownsvilleag\n",
      "cctustin\n",
      "geneseehillpta\n",
      "kindervelt\n",
      "rosehillchurch\n",
      "sbcoc\n",
      "thesheepfold\n",
      "maddragonmusic\n",
      "puccifoods\n",
      "mindandmom\n",
      "gwfins\n",
      "influencechurch\n",
      "silverstateesports\n",
      "simplifiedit\n",
      "TrailandUltraRunning\n",
      "gtcon\n",
      "kulturedcustoms\n",
      "csctalkradio\n",
      "sweatthestyle\n",
      "foxpak\n",
      "tech-sage\n",
      "wanderingisite\n",
      "churchhealth\n",
      "sakhiyaskinclinic\n",
      "petspamiami\n",
      "rootdownbrewing\n",
      "thefrenchartisan\n",
      "mothersdayclassic\n",
      "givebesa\n",
      "raphahouse\n",
      "tsm\n",
      "budgetroofingsupply\n",
      "ydlv\n",
      "journeycc\n",
      "miraclecitychurch\n",
      "breakfreebeunstoppable\n",
      "fear2peace\n",
      "accadis-isb\n",
      "airlockertraining\n",
      "binbathers\n",
      "blackglassgallery\n",
      "csgo2asia\n",
      "huntdrop\n",
      "imtgapp\n",
      "juniperboutique\n",
      "mrfarmersclass\n",
      "newestcomputers\n",
      "seventhrule\n",
      "upventur\n",
      "urbanismsummit\n",
      "cubecobra\n",
      "meinlusa\n",
      "tattoosonlamar\n",
      "carrielivingston\n",
      "lalaland-design\n",
      "umranaysan\n",
      "battcrew\n",
      "oldscoolbmx\n",
      "oregonseaweed\n",
      "renarddrinks\n",
      "eodwarriorfoundation\n",
      "thefarmershouse\n",
      "civicspirit\n",
      "jhlord\n",
      "usmmuseum\n",
      "gracefamilybaptist\n",
      "jrni\n",
      "carolclemans\n",
      "gracechurchmentor\n",
      "wholelife\n",
      "iempowerment\n",
      "livingwatersri\n",
      "locfoundation\n",
      "mauliola\n",
      "ophrescue\n",
      "see3d\n",
      "urbansurf4kids\n",
      "wesleysinternational\n",
      "Liquid Foundation\n"
     ]
    }
   ],
   "source": [
    "dataframe = pd.read_csv('company_result/company_100_500.csv')\n",
    "\n",
    "df = dataframe[\"Company\"]\n",
    "\n",
    "for x in range(len(df)):\n",
    "    print(df[x])"
   ]
  },
  {
   "cell_type": "code",
   "execution_count": 12,
   "metadata": {},
   "outputs": [],
   "source": [
    "title_list = ['Chairman of the Board','President & CEO', 'CEO', 'Co-Founder', 'Business Owner', 'Director Contract Manufacturing', 'Owner', 'COO', 'Principal Engineer', 'Founder', 'Sales Supervisor', 'Sales Closer', 'Sales Representative', 'Director of Operations', 'Principal', 'President of Operations', 'Chief Executive Officer', 'CTO', 'Business Development Lead', 'Marketing Executive', 'CEO', 'Chief Executive Officer', 'C.E.O.', 'Founder', 'Co founder', 'Cofounder', 'Director of Development', 'Business Development', 'Retail', 'ecommerce', 'Digital Marketing', 'CMO', 'Chief Marketing Officer', 'CTO', 'Chief Technology Officer', 'Director of Marketing', 'Software', 'Fundraising', 'Partner', 'Donor', 'President', 'Owner', 'Partnership', 'Marketing manager']"
   ]
  },
  {
   "cell_type": "code",
   "execution_count": 15,
   "metadata": {},
   "outputs": [
    {
     "data": {
      "text/plain": [
       "44"
      ]
     },
     "execution_count": 15,
     "metadata": {},
     "output_type": "execute_result"
    }
   ],
   "source": [
    "len(title_list)"
   ]
  },
  {
   "cell_type": "code",
   "execution_count": 13,
   "metadata": {},
   "outputs": [],
   "source": [
    "position_list = pd.DataFrame(title_list, columns=['Position'])"
   ]
  },
  {
   "cell_type": "code",
   "execution_count": 16,
   "metadata": {},
   "outputs": [],
   "source": [
    "clean_pos = position_list.drop_duplicates()"
   ]
  },
  {
   "cell_type": "code",
   "execution_count": null,
   "metadata": {},
   "outputs": [],
   "source": [
    "rel_pos = ['ceo','president','lead','owner','engineer','senior','chief','partner','director',\n",
    "'development','officer','retail','fundraising','cto','cmo','founder','coo','chairman','honor','manager']"
   ]
  },
  {
   "cell_type": "code",
   "execution_count": 49,
   "metadata": {},
   "outputs": [],
   "source": [
    "not_found = pd.DataFrame(columns=dataframe.columns)"
   ]
  },
  {
   "cell_type": "code",
   "execution_count": 50,
   "metadata": {},
   "outputs": [
    {
     "data": {
      "text/plain": [
       "Name                          Claire\n",
       "Email      claire@operationmasks.org\n",
       "Company              operation masks\n",
       "Domain            operationmasks.org\n",
       "Name: 0, dtype: object"
      ]
     },
     "execution_count": 50,
     "metadata": {},
     "output_type": "execute_result"
    }
   ],
   "source": [
    "add_row = dataframe.iloc[0]\n",
    "add_row"
   ]
  },
  {
   "cell_type": "code",
   "execution_count": 51,
   "metadata": {},
   "outputs": [],
   "source": [
    "new_df = pd.DataFrame(columns=['Name','Email','Company','Domain'])"
   ]
  },
  {
   "cell_type": "code",
   "execution_count": 56,
   "metadata": {},
   "outputs": [
    {
     "data": {
      "text/html": [
       "<div>\n",
       "<style scoped>\n",
       "    .dataframe tbody tr th:only-of-type {\n",
       "        vertical-align: middle;\n",
       "    }\n",
       "\n",
       "    .dataframe tbody tr th {\n",
       "        vertical-align: top;\n",
       "    }\n",
       "\n",
       "    .dataframe thead th {\n",
       "        text-align: right;\n",
       "    }\n",
       "</style>\n",
       "<table border=\"1\" class=\"dataframe\">\n",
       "  <thead>\n",
       "    <tr style=\"text-align: right;\">\n",
       "      <th></th>\n",
       "      <th>Name</th>\n",
       "      <th>Email</th>\n",
       "      <th>Company</th>\n",
       "      <th>Domain</th>\n",
       "      <th>0</th>\n",
       "    </tr>\n",
       "  </thead>\n",
       "  <tbody>\n",
       "  </tbody>\n",
       "</table>\n",
       "</div>"
      ],
      "text/plain": [
       "Empty DataFrame\n",
       "Columns: [Name, Email, Company, Domain, 0]\n",
       "Index: []"
      ]
     },
     "execution_count": 56,
     "metadata": {},
     "output_type": "execute_result"
    }
   ],
   "source": [
    "new_df.join(add_row)"
   ]
  },
  {
   "cell_type": "code",
   "execution_count": 59,
   "metadata": {},
   "outputs": [
    {
     "data": {
      "text/html": [
       "<div>\n",
       "<style scoped>\n",
       "    .dataframe tbody tr th:only-of-type {\n",
       "        vertical-align: middle;\n",
       "    }\n",
       "\n",
       "    .dataframe tbody tr th {\n",
       "        vertical-align: top;\n",
       "    }\n",
       "\n",
       "    .dataframe thead th {\n",
       "        text-align: right;\n",
       "    }\n",
       "</style>\n",
       "<table border=\"1\" class=\"dataframe\">\n",
       "  <thead>\n",
       "    <tr style=\"text-align: right;\">\n",
       "      <th></th>\n",
       "      <th>Name</th>\n",
       "      <th>Email</th>\n",
       "      <th>Company</th>\n",
       "      <th>Domain</th>\n",
       "      <th>0</th>\n",
       "    </tr>\n",
       "  </thead>\n",
       "  <tbody>\n",
       "    <tr>\n",
       "      <th>0</th>\n",
       "      <td>NaN</td>\n",
       "      <td>NaN</td>\n",
       "      <td>NaN</td>\n",
       "      <td>NaN</td>\n",
       "      <td>Claire</td>\n",
       "    </tr>\n",
       "    <tr>\n",
       "      <th>1</th>\n",
       "      <td>NaN</td>\n",
       "      <td>NaN</td>\n",
       "      <td>NaN</td>\n",
       "      <td>NaN</td>\n",
       "      <td>claire@operationmasks.org</td>\n",
       "    </tr>\n",
       "    <tr>\n",
       "      <th>2</th>\n",
       "      <td>NaN</td>\n",
       "      <td>NaN</td>\n",
       "      <td>NaN</td>\n",
       "      <td>NaN</td>\n",
       "      <td>operation masks</td>\n",
       "    </tr>\n",
       "    <tr>\n",
       "      <th>3</th>\n",
       "      <td>NaN</td>\n",
       "      <td>NaN</td>\n",
       "      <td>NaN</td>\n",
       "      <td>NaN</td>\n",
       "      <td>operationmasks.org</td>\n",
       "    </tr>\n",
       "  </tbody>\n",
       "</table>\n",
       "</div>"
      ],
      "text/plain": [
       "  Name Email Company Domain                          0\n",
       "0  NaN   NaN     NaN    NaN                     Claire\n",
       "1  NaN   NaN     NaN    NaN  claire@operationmasks.org\n",
       "2  NaN   NaN     NaN    NaN            operation masks\n",
       "3  NaN   NaN     NaN    NaN         operationmasks.org"
      ]
     },
     "execution_count": 59,
     "metadata": {},
     "output_type": "execute_result"
    }
   ],
   "source": [
    "pd.concat([new_df,pd.Series(add_row)],ignore_index=True)"
   ]
  },
  {
   "cell_type": "code",
   "execution_count": 68,
   "metadata": {},
   "outputs": [],
   "source": [
    "add_row_df = pd.DataFrame([add_row], columns=new_df.columns)\n",
    "\n",
    "# Concatenate the original DataFrame with your new row\n",
    "new_df = pd.concat([new_df, add_row_df], ignore_index=True)"
   ]
  }
 ],
 "metadata": {
  "interpreter": {
   "hash": "aee8b7b246df8f9039afb4144a1f6fd8d2ca17a180786b69acc140d282b71a49"
  },
  "kernelspec": {
   "display_name": "Python 3.11.0 64-bit",
   "language": "python",
   "name": "python3"
  },
  "language_info": {
   "codemirror_mode": {
    "name": "ipython",
    "version": 3
   },
   "file_extension": ".py",
   "mimetype": "text/x-python",
   "name": "python",
   "nbconvert_exporter": "python",
   "pygments_lexer": "ipython3",
   "version": "3.11.0"
  },
  "orig_nbformat": 4
 },
 "nbformat": 4,
 "nbformat_minor": 2
}
