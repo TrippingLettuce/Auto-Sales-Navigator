{
 "cells": [
  {
   "cell_type": "code",
   "execution_count": 19,
   "metadata": {},
   "outputs": [],
   "source": [
    "import pandas as pd\n",
    "import numpy as np\n",
    "import re"
   ]
  },
  {
   "cell_type": "code",
   "execution_count": 20,
   "metadata": {},
   "outputs": [],
   "source": [
    "df = pd.read_csv('/home/lettuce/WorkCode/SalesNavigator/linkedin_from_excel/dataset/donnorData.csv')\n"
   ]
  },
  {
   "cell_type": "code",
   "execution_count": 21,
   "metadata": {},
   "outputs": [],
   "source": [
    "# Clean the Price Data\n",
    "df['Prices'] = df['Prices'].replace('[\\$,]', '', regex=True).astype(float)\n",
    "\n",
    "# Define the bins and labels\n",
    "bins = [1000, 5000, 10000, 25000, 50000, 100000, float('inf')]\n",
    "labels = ['1k-5k', '5k-10k', '10k-25k', '25k-50k', '50k-100k', '100k+']\n",
    "\n",
    "# Create a new column with the bins\n",
    "df['Price_Range'] = pd.cut(df['Prices'], bins=bins, labels=labels, right=False, include_lowest=True)\n",
    "\n",
    "# Split the Data and Export\n",
    "for label in labels:\n",
    "    subset = df[df['Price_Range'] == label]\n",
    "    subset.to_csv(f'{label}.csv', index=False)"
   ]
  }
 ],
 "metadata": {
  "kernelspec": {
   "display_name": "Python 3",
   "language": "python",
   "name": "python3"
  },
  "language_info": {
   "codemirror_mode": {
    "name": "ipython",
    "version": 3
   },
   "file_extension": ".py",
   "mimetype": "text/x-python",
   "name": "python",
   "nbconvert_exporter": "python",
   "pygments_lexer": "ipython3",
   "version": "3.10.12"
  },
  "orig_nbformat": 4
 },
 "nbformat": 4,
 "nbformat_minor": 2
}
