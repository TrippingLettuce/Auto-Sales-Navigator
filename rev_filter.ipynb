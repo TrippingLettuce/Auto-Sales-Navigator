{
 "cells": [
  {
   "cell_type": "code",
   "execution_count": 1,
   "metadata": {},
   "outputs": [],
   "source": [
    "# import packages to use\n",
    "import pandas as pd\n",
    "import requests       # HTTP protocol request package"
   ]
  },
  {
   "cell_type": "code",
   "execution_count": null,
   "metadata": {},
   "outputs": [],
   "source": [
    "# Function that checks the website exist\n",
    "# Return 1 for existing website, 0 for non existing\n",
    "def check_website_exists(url):\n",
    "    try:\n",
    "        response = requests.get(url)\n",
    "        return int(response.status_code == 200)\n",
    "    except requests.ConnectionError:\n",
    "        return 0"
   ]
  },
  {
   "cell_type": "markdown",
   "metadata": {},
   "source": [
    "# Data Filtering"
   ]
  },
  {
   "cell_type": "markdown",
   "metadata": {},
   "source": [
    "Data filteration for each revenue of the companies\n",
    "- Revenue 100 ~ 500 \n",
    "- Revenue 1k ~ 5k\n",
    "- Revenue 5k ~ 10k\n",
    "- Revenue 10k ~ 25k\n",
    "- Revenue 50k ~ 100k\n",
    "- Revenue 100k ~ 200k\n",
    "- Revenue 200k plus"
   ]
  },
  {
   "cell_type": "code",
   "execution_count": 42,
   "metadata": {},
   "outputs": [],
   "source": [
    "# Revenue 1k ~ 5k\n",
    "rev_1to5 = pd.read_csv('dataset/revenue_1k_5k.csv')"
   ]
  },
  {
   "cell_type": "code",
   "execution_count": 96,
   "metadata": {},
   "outputs": [],
   "source": [
    "# Define company domain list \n",
    "## If there's many company, it takes a lot of time\n",
    "domain_1to5 = rev_1to5['Domain'].dropna().to_list()[:20]\n",
    "\n",
    "# Dictionary define. If the website exist, return 1 else return 0\n",
    "web_1to5 = {\n",
    "    \"website\": domain_1to5,\n",
    "    \"exist\": [check_website_exists(\"http://\" + domain) for domain in domain_1to5]\n",
    "}\n",
    "\n",
    "# Convert to DataFrame to export to CSV\n",
    "df_1to5 = pd.DataFrame(web_1to5)"
   ]
  },
  {
   "cell_type": "code",
   "execution_count": 100,
   "metadata": {},
   "outputs": [],
   "source": [
    "# Export to CSV file\n",
    "df_1to5.to_csv(\"website_existence.csv\", index=False)"
   ]
  }
 ],
 "metadata": {
  "interpreter": {
   "hash": "40d3a090f54c6569ab1632332b64b2c03c39dcf918b08424e98f38b5ae0af88f"
  },
  "kernelspec": {
   "display_name": "Python 3.9.13 ('base')",
   "language": "python",
   "name": "python3"
  },
  "language_info": {
   "codemirror_mode": {
    "name": "ipython",
    "version": 3
   },
   "file_extension": ".py",
   "mimetype": "text/x-python",
   "name": "python",
   "nbconvert_exporter": "python",
   "pygments_lexer": "ipython3",
   "version": "3.9.13"
  },
  "orig_nbformat": 4
 },
 "nbformat": 4,
 "nbformat_minor": 2
}
