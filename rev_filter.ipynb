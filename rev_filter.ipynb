{
 "cells": [
  {
   "cell_type": "code",
   "execution_count": 1,
   "metadata": {},
   "outputs": [],
   "source": [
    "# import packages to use\n",
    "import pandas as pd\n",
    "import requests       # HTTP protocol request package"
   ]
  },
  {
   "cell_type": "code",
   "execution_count": 2,
   "metadata": {},
   "outputs": [],
   "source": [
    "# Function that checks the website exist\n",
    "# Return 1 for existing website, 0 for non existing\n",
    "def check_website_exists(url):\n",
    "    try:\n",
    "        response = requests.get(url)\n",
    "        return int(response.status_code == 200)\n",
    "    except requests.ConnectionError:\n",
    "        return 0"
   ]
  },
  {
   "cell_type": "markdown",
   "metadata": {},
   "source": [
    "# Data Filtering"
   ]
  },
  {
   "cell_type": "markdown",
   "metadata": {},
   "source": [
    "Data filteration for each revenue of the companies\n",
    "- Revenue 100 ~ 500 \n",
    "- Revenue 1k ~ 5k [✓]\n",
    "- Revenue 5k ~ 10k\n",
    "- Revenue 10k ~ 25k\n",
    "- Revenue 50k ~ 100k\n",
    "- Revenue 100k ~ 200k\n",
    "- Revenue 200k plus"
   ]
  },
  {
   "cell_type": "markdown",
   "metadata": {},
   "source": [
    "---\n",
    "### Revenue 100 to 500"
   ]
  },
  {
   "cell_type": "code",
   "execution_count": 7,
   "metadata": {},
   "outputs": [
    {
     "data": {
      "text/html": [
       "<div>\n",
       "<style scoped>\n",
       "    .dataframe tbody tr th:only-of-type {\n",
       "        vertical-align: middle;\n",
       "    }\n",
       "\n",
       "    .dataframe tbody tr th {\n",
       "        vertical-align: top;\n",
       "    }\n",
       "\n",
       "    .dataframe thead th {\n",
       "        text-align: right;\n",
       "    }\n",
       "</style>\n",
       "<table border=\"1\" class=\"dataframe\">\n",
       "  <thead>\n",
       "    <tr style=\"text-align: right;\">\n",
       "      <th></th>\n",
       "      <th>Email</th>\n",
       "      <th>Name</th>\n",
       "      <th>Keyword</th>\n",
       "      <th>F4</th>\n",
       "      <th>Domain</th>\n",
       "      <th>Sales Revenue USD</th>\n",
       "      <th>Company</th>\n",
       "    </tr>\n",
       "  </thead>\n",
       "  <tbody>\n",
       "    <tr>\n",
       "      <th>0</th>\n",
       "      <td>cposner@lfsurf.com</td>\n",
       "      <td>C. Posner</td>\n",
       "      <td>foundation</td>\n",
       "      <td>11/21/22 3:21</td>\n",
       "      <td>lfsurf.com</td>\n",
       "      <td>498</td>\n",
       "      <td>lfsurf</td>\n",
       "    </tr>\n",
       "    <tr>\n",
       "      <th>1</th>\n",
       "      <td>claire@operationmasks.org</td>\n",
       "      <td>Claire</td>\n",
       "      <td>org</td>\n",
       "      <td>12/7/22 4:59</td>\n",
       "      <td>operationmasks.org</td>\n",
       "      <td>495</td>\n",
       "      <td>operationmasks</td>\n",
       "    </tr>\n",
       "    <tr>\n",
       "      <th>2</th>\n",
       "      <td>nasserally@nassfitness.com</td>\n",
       "      <td>Erally Nass</td>\n",
       "      <td>community</td>\n",
       "      <td>12/9/22 0:37</td>\n",
       "      <td>nassfitness.com</td>\n",
       "      <td>485</td>\n",
       "      <td>nassfitness</td>\n",
       "    </tr>\n",
       "    <tr>\n",
       "      <th>3</th>\n",
       "      <td>lino.miani@combatdiver.org</td>\n",
       "      <td>Lino Miani</td>\n",
       "      <td>org</td>\n",
       "      <td>12/7/22 4:59</td>\n",
       "      <td>combatdiver.org</td>\n",
       "      <td>483</td>\n",
       "      <td>combatdiver</td>\n",
       "    </tr>\n",
       "    <tr>\n",
       "      <th>4</th>\n",
       "      <td>annakarin@formerabeauty.com</td>\n",
       "      <td>Ann Akarin</td>\n",
       "      <td>foundation</td>\n",
       "      <td>11/21/22 3:21</td>\n",
       "      <td>formerabeauty.com</td>\n",
       "      <td>478</td>\n",
       "      <td>formerabeauty</td>\n",
       "    </tr>\n",
       "  </tbody>\n",
       "</table>\n",
       "</div>"
      ],
      "text/plain": [
       "                         Email         Name     Keyword             F4  \\\n",
       "0           cposner@lfsurf.com    C. Posner  foundation  11/21/22 3:21   \n",
       "1    claire@operationmasks.org       Claire         org   12/7/22 4:59   \n",
       "2   nasserally@nassfitness.com  Erally Nass   community   12/9/22 0:37   \n",
       "3   lino.miani@combatdiver.org   Lino Miani         org   12/7/22 4:59   \n",
       "4  annakarin@formerabeauty.com   Ann Akarin  foundation  11/21/22 3:21   \n",
       "\n",
       "               Domain  Sales Revenue USD         Company  \n",
       "0          lfsurf.com                498          lfsurf  \n",
       "1  operationmasks.org                495  operationmasks  \n",
       "2     nassfitness.com                485     nassfitness  \n",
       "3     combatdiver.org                483     combatdiver  \n",
       "4   formerabeauty.com                478   formerabeauty  "
      ]
     },
     "execution_count": 7,
     "metadata": {},
     "output_type": "execute_result"
    }
   ],
   "source": [
    "# Revenue 100 ~ 500\n",
    "rev_basic = pd.read_csv('dataset/revenue_100_500.csv')\n",
    "rev_basic.head()"
   ]
  },
  {
   "cell_type": "code",
   "execution_count": 23,
   "metadata": {},
   "outputs": [],
   "source": [
    "# Define company domain list (revenue 100 ~ 500)\n",
    "## If there's many company, it takes a lot of time\n",
    "domain_basic = rev_basic['Domain'].dropna().to_list()\n",
    "\n",
    "# Dictionary define. If the website exist, return 1 else return 0\n",
    "dict_basic = {\n",
    "    \"website\": domain_basic,\n",
    "    \"exist\": [check_website_exists(\"http://\" + domain) for domain in domain_basic]\n",
    "}\n",
    "\n",
    "# Convert to DataFrame to export to CSV\n",
    "df_basic = pd.DataFrame(dict_basic)"
   ]
  },
  {
   "cell_type": "code",
   "execution_count": 24,
   "metadata": {},
   "outputs": [],
   "source": [
    "# Export to CSV file\n",
    "df_basic.to_csv(\"website_result/result_100_500.csv\", index=False)"
   ]
  },
  {
   "cell_type": "markdown",
   "metadata": {},
   "source": [
    "---\n",
    "### Revenue 1k ~ 5k"
   ]
  },
  {
   "cell_type": "code",
   "execution_count": 3,
   "metadata": {},
   "outputs": [],
   "source": [
    "# Revenue 1k ~ 5k\n",
    "rev_1to5 = pd.read_csv('dataset/revenue_1k_5k.csv')"
   ]
  },
  {
   "cell_type": "code",
   "execution_count": 4,
   "metadata": {},
   "outputs": [],
   "source": [
    "# Define company domain list (revenue 1k ~ 5k)\n",
    "## If there's many company, it takes a lot of time\n",
    "domain_1to5 = rev_1to5['Domain'].dropna().to_list()\n",
    "\n",
    "# Dictionary define. If the website exist, return 1 else return 0\n",
    "dict_1to5 = {\n",
    "    \"website\": domain_1to5,\n",
    "    \"exist\": [check_website_exists(\"http://\" + domain) for domain in domain_1to5]\n",
    "}\n",
    "\n",
    "# Convert to DataFrame to export to CSV\n",
    "df_1to5 = pd.DataFrame(dict_1to5)"
   ]
  },
  {
   "cell_type": "code",
   "execution_count": 5,
   "metadata": {},
   "outputs": [],
   "source": [
    "# Export to CSV file\n",
    "df_1to5.to_csv(\"website_result/result_1k_5k.csv\", index=False)"
   ]
  },
  {
   "cell_type": "code",
   "execution_count": null,
   "metadata": {},
   "outputs": [],
   "source": []
  }
 ],
 "metadata": {
  "interpreter": {
   "hash": "40d3a090f54c6569ab1632332b64b2c03c39dcf918b08424e98f38b5ae0af88f"
  },
  "kernelspec": {
   "display_name": "Python 3.9.13 ('base')",
   "language": "python",
   "name": "python3"
  },
  "language_info": {
   "codemirror_mode": {
    "name": "ipython",
    "version": 3
   },
   "file_extension": ".py",
   "mimetype": "text/x-python",
   "name": "python",
   "nbconvert_exporter": "python",
   "pygments_lexer": "ipython3",
   "version": "3.9.13"
  },
  "orig_nbformat": 4
 },
 "nbformat": 4,
 "nbformat_minor": 2
}
