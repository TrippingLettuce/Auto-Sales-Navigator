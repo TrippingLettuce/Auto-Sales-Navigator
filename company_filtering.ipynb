{
 "cells": [
  {
   "cell_type": "code",
   "execution_count": 11,
   "metadata": {},
   "outputs": [],
   "source": [
    "# import packages to use\n",
    "import pandas as pd\n",
    "import requests       # HTTP protocol request package"
   ]
  },
  {
   "cell_type": "code",
   "execution_count": 12,
   "metadata": {},
   "outputs": [],
   "source": [
    "def get_first_half(domain):\n",
    "    parts = domain.split('.')\n",
    "    return '.'.join(parts[:len(parts)//2])\n",
    "\n",
    "def company_filtering(df):\n",
    "    \"\"\"\n",
    "    Function for filtering into existing and not existing company\n",
    "    For further use, make sure to check the dataset has right columns\n",
    "    The function will output as exporting csv files.\n",
    "    \"\"\"\n",
    "\n",
    "    df['Name'] = df.apply(lambda row: get_first_half(row['Domain']) if pd.isnull(row['Name']) else row['Name'], axis=1)\n",
    "    return df\n"
   ]
  },
  {
   "cell_type": "code",
   "execution_count": 13,
   "metadata": {},
   "outputs": [],
   "source": [
    "\n",
    "rev_basic = pd.read_csv('/home/lettuce/WorkCode/SalesNavigator/linkedin_from_excel/dataset/1k-5k.csv',usecols=['Name', 'Domain'])\n"
   ]
  },
  {
   "cell_type": "code",
   "execution_count": 14,
   "metadata": {},
   "outputs": [],
   "source": [
    "# Divide Datasheet into existing and nonexisting\n",
    "existing = company_filtering(rev_basic)"
   ]
  },
  {
   "cell_type": "code",
   "execution_count": 15,
   "metadata": {},
   "outputs": [],
   "source": [
    "# Export to CSV\n",
    "\n",
    "existing.to_csv(\"/home/lettuce/WorkCode/SalesNavigator/linkedin_from_excel/company_result/filtered_1k_5k.csv\", index=False)\n"
   ]
  }
 ],
 "metadata": {
  "interpreter": {
   "hash": "40d3a090f54c6569ab1632332b64b2c03c39dcf918b08424e98f38b5ae0af88f"
  },
  "kernelspec": {
   "display_name": "Python 3.9.13 ('base')",
   "language": "python",
   "name": "python3"
  },
  "language_info": {
   "codemirror_mode": {
    "name": "ipython",
    "version": 3
   },
   "file_extension": ".py",
   "mimetype": "text/x-python",
   "name": "python",
   "nbconvert_exporter": "python",
   "pygments_lexer": "ipython3",
   "version": "3.10.12"
  },
  "orig_nbformat": 4
 },
 "nbformat": 4,
 "nbformat_minor": 2
}
